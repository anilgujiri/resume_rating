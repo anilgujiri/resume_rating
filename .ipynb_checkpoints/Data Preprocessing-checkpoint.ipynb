{
 "cells": [
  {
   "cell_type": "code",
   "execution_count": 305,
   "id": "90a2d641",
   "metadata": {},
   "outputs": [],
   "source": [
    "import pandas as pd\n",
    "import numpy as np\n",
    "import spacy\n",
    "import os\n",
    "import time\n",
    "import gensim\n",
    "import re\n",
    "import nltk\n",
    "import en_core_web_sm\n",
    "from sklearn.pipeline import Pipeline\n",
    "from nltk.corpus import stopwords\n",
    "from collections import Counter\n",
    "import matplotlib.pyplot as plt\n",
    "from imblearn.over_sampling import SMOTE\n",
    "from sklearn.linear_model import SGDClassifier\n",
    "from sklearn.linear_model import LogisticRegression\n",
    "from sklearn.preprocessing import StandardScaler\n",
    "from sklearn.ensemble import RandomForestClassifier\n",
    "from sklearn.pipeline import Pipeline\n",
    "from sklearn.model_selection import GridSearchCV\n",
    "import warnings\n",
    "warnings.filterwarnings('ignore')"
   ]
  },
  {
   "cell_type": "code",
   "execution_count": 107,
   "id": "5e23526f",
   "metadata": {},
   "outputs": [],
   "source": [
    "nlp = en_core_web_sm.load()"
   ]
  },
  {
   "cell_type": "code",
   "execution_count": 126,
   "id": "2ab5cae7",
   "metadata": {},
   "outputs": [],
   "source": [
    "df = pd.read_csv(\"final_data.csv\",index_col=False)"
   ]
  },
  {
   "cell_type": "code",
   "execution_count": 127,
   "id": "1140b704",
   "metadata": {},
   "outputs": [
    {
     "data": {
      "text/plain": [
       "1"
      ]
     },
     "execution_count": 127,
     "metadata": {},
     "output_type": "execute_result"
    }
   ],
   "source": [
    "df[\"Review\"].isna().sum()"
   ]
  },
  {
   "cell_type": "code",
   "execution_count": 128,
   "id": "64fbb33b",
   "metadata": {},
   "outputs": [],
   "source": [
    "df = df.dropna().reset_index(drop=True)"
   ]
  },
  {
   "cell_type": "code",
   "execution_count": 129,
   "id": "b6df9d42",
   "metadata": {},
   "outputs": [],
   "source": [
    "skills = [line.strip() for line in open(\"intermediate.txt\", 'r')]"
   ]
  },
  {
   "cell_type": "code",
   "execution_count": 130,
   "id": "213283e2",
   "metadata": {},
   "outputs": [
    {
     "data": {
      "text/html": [
       "<div>\n",
       "<style scoped>\n",
       "    .dataframe tbody tr th:only-of-type {\n",
       "        vertical-align: middle;\n",
       "    }\n",
       "\n",
       "    .dataframe tbody tr th {\n",
       "        vertical-align: top;\n",
       "    }\n",
       "\n",
       "    .dataframe thead th {\n",
       "        text-align: right;\n",
       "    }\n",
       "</style>\n",
       "<table border=\"1\" class=\"dataframe\">\n",
       "  <thead>\n",
       "    <tr style=\"text-align: right;\">\n",
       "      <th></th>\n",
       "      <th>Category</th>\n",
       "      <th>Review</th>\n",
       "      <th>Rating</th>\n",
       "    </tr>\n",
       "  </thead>\n",
       "  <tbody>\n",
       "    <tr>\n",
       "      <th>0</th>\n",
       "      <td>Data Engineer</td>\n",
       "      <td>data tech cprogramminglanguage api machinelear...</td>\n",
       "      <td>1</td>\n",
       "    </tr>\n",
       "    <tr>\n",
       "      <th>1</th>\n",
       "      <td>Data Engineer</td>\n",
       "      <td>data tech manage managementexperience microsof...</td>\n",
       "      <td>1</td>\n",
       "    </tr>\n",
       "    <tr>\n",
       "      <th>2</th>\n",
       "      <td>Data Engineer</td>\n",
       "      <td>googleapi data lean center api shell services ...</td>\n",
       "      <td>1</td>\n",
       "    </tr>\n",
       "    <tr>\n",
       "      <th>3</th>\n",
       "      <td>Data Engineer</td>\n",
       "      <td>data flow elastic analysis python eve start an...</td>\n",
       "      <td>4</td>\n",
       "    </tr>\n",
       "    <tr>\n",
       "      <th>4</th>\n",
       "      <td>Data Engineer</td>\n",
       "      <td>data you microsoft python and desktop desk exp...</td>\n",
       "      <td>2</td>\n",
       "    </tr>\n",
       "    <tr>\n",
       "      <th>...</th>\n",
       "      <td>...</td>\n",
       "      <td>...</td>\n",
       "      <td>...</td>\n",
       "    </tr>\n",
       "    <tr>\n",
       "      <th>65</th>\n",
       "      <td>Data Science</td>\n",
       "      <td>data analysis python and predictiveanalytics e...</td>\n",
       "      <td>2</td>\n",
       "    </tr>\n",
       "    <tr>\n",
       "      <th>66</th>\n",
       "      <td>Data Science</td>\n",
       "      <td>data analysis python biology and predictiveana...</td>\n",
       "      <td>4</td>\n",
       "    </tr>\n",
       "    <tr>\n",
       "      <th>67</th>\n",
       "      <td>Data Science</td>\n",
       "      <td>data client statistics keras word analysis pyt...</td>\n",
       "      <td>5</td>\n",
       "    </tr>\n",
       "    <tr>\n",
       "      <th>68</th>\n",
       "      <td>Data Science</td>\n",
       "      <td>data medical statistics health you video graph...</td>\n",
       "      <td>5</td>\n",
       "    </tr>\n",
       "    <tr>\n",
       "      <th>69</th>\n",
       "      <td>Data Science</td>\n",
       "      <td>data python eve english and management twitter...</td>\n",
       "      <td>3</td>\n",
       "    </tr>\n",
       "  </tbody>\n",
       "</table>\n",
       "<p>70 rows × 3 columns</p>\n",
       "</div>"
      ],
      "text/plain": [
       "         Category                                             Review  Rating\n",
       "0   Data Engineer  data tech cprogramminglanguage api machinelear...       1\n",
       "1   Data Engineer  data tech manage managementexperience microsof...       1\n",
       "2   Data Engineer  googleapi data lean center api shell services ...       1\n",
       "3   Data Engineer  data flow elastic analysis python eve start an...       4\n",
       "4   Data Engineer  data you microsoft python and desktop desk exp...       2\n",
       "..            ...                                                ...     ...\n",
       "65   Data Science  data analysis python and predictiveanalytics e...       2\n",
       "66   Data Science  data analysis python biology and predictiveana...       4\n",
       "67   Data Science  data client statistics keras word analysis pyt...       5\n",
       "68   Data Science  data medical statistics health you video graph...       5\n",
       "69   Data Science  data python eve english and management twitter...       3\n",
       "\n",
       "[70 rows x 3 columns]"
      ]
     },
     "execution_count": 130,
     "metadata": {},
     "output_type": "execute_result"
    }
   ],
   "source": [
    "df.head(70)"
   ]
  },
  {
   "cell_type": "code",
   "execution_count": 132,
   "id": "4afe6815",
   "metadata": {},
   "outputs": [
    {
     "name": "stdout",
     "output_type": "stream",
     "text": [
      "data tech cprogramminglanguage api machinelearning apache sql end python eve spark business software computersoftware softwareengineering apipython and asis coop skills computer programming experience dprogramminglanguage forpython record businessintelligence rprogramminglanguage technology learn analytics bigdata engineering program dataanalytics pythonsql medicaldevice mis education pyfor public scala machine businessreengineering per pythonx lan\n"
     ]
    }
   ],
   "source": [
    "corpus = []\n",
    "count = 0\n",
    "for i in range(len(df)):\n",
    "    review = nltk.word_tokenize(df[\"Review\"][i])\n",
    "    review = [word for word in review if not word in (set(stopwords.words('english')),set(skills))]\n",
    "    review = ' '.join(review)\n",
    "    if count == 0 :\n",
    "        print(review)\n",
    "        count += 1\n",
    "    corpus.append(review)\n"
   ]
  },
  {
   "cell_type": "code",
   "execution_count": 133,
   "id": "90816d61",
   "metadata": {},
   "outputs": [],
   "source": [
    "corpus_bkp = corpus.copy()"
   ]
  },
  {
   "cell_type": "code",
   "execution_count": 204,
   "id": "a1e6945f",
   "metadata": {},
   "outputs": [],
   "source": [
    "from sklearn.feature_extraction.text import CountVectorizer\n",
    "cv = CountVectorizer(max_features=100)\n",
    "X = cv.fit_transform(corpus).toarray()"
   ]
  },
  {
   "cell_type": "code",
   "execution_count": 206,
   "id": "40e7edc0",
   "metadata": {},
   "outputs": [],
   "source": [
    "df1 = pd.DataFrame(X, columns=cv.get_feature_names())"
   ]
  },
  {
   "cell_type": "code",
   "execution_count": 207,
   "id": "17b67e26",
   "metadata": {},
   "outputs": [],
   "source": [
    "df2 = pd.get_dummies(df, columns=['Category'],drop_first=True)"
   ]
  },
  {
   "cell_type": "code",
   "execution_count": 208,
   "id": "c0feffce",
   "metadata": {},
   "outputs": [],
   "source": [
    "df_data = df1.append(df2, ignore_index=True)"
   ]
  },
  {
   "cell_type": "code",
   "execution_count": 211,
   "id": "fe642758",
   "metadata": {},
   "outputs": [],
   "source": [
    "df_data= pd.concat((df1, df2), axis=1)"
   ]
  },
  {
   "cell_type": "code",
   "execution_count": 212,
   "id": "7e8676db",
   "metadata": {
    "scrolled": true
   },
   "outputs": [
    {
     "data": {
      "text/plain": [
       "(1074, 127)"
      ]
     },
     "execution_count": 212,
     "metadata": {},
     "output_type": "execute_result"
    }
   ],
   "source": [
    "df_data.shape"
   ]
  },
  {
   "cell_type": "code",
   "execution_count": 213,
   "id": "ea649877",
   "metadata": {},
   "outputs": [],
   "source": [
    "df_data = df_data.drop(['Review'], axis = 1)"
   ]
  },
  {
   "cell_type": "code",
   "execution_count": 214,
   "id": "c6193aec",
   "metadata": {},
   "outputs": [],
   "source": [
    "X = df_data.drop(['Rating'], axis = 1)"
   ]
  },
  {
   "cell_type": "code",
   "execution_count": null,
   "id": "ea575c45",
   "metadata": {},
   "outputs": [],
   "source": [
    "def plot_confusion_matrix(cm, classes,\n",
    "                          normalize=False,\n",
    "                          title='Confusion matrix',\n",
    "                          cmap=plt.cm.Blues):\n",
    "    \"\"\"\n",
    "    See full source and example: \n",
    "    http://scikit-learn.org/stable/auto_examples/model_selection/plot_confusion_matrix.html\n",
    "    \n",
    "    This function prints and plots the confusion matrix.\n",
    "    Normalization can be applied by setting `normalize=True`.\n",
    "    \"\"\"\n",
    "    plt.imshow(cm, interpolation='nearest', cmap=cmap)\n",
    "    plt.title(title)\n",
    "    plt.colorbar()\n",
    "    tick_marks = np.arange(len(classes))\n",
    "    plt.xticks(tick_marks, classes, rotation=45)\n",
    "    plt.yticks(tick_marks, classes)\n",
    "\n",
    "    if normalize:\n",
    "        cm = cm.astype('float') / cm.sum(axis=1)[:, np.newaxis]\n",
    "        print(\"Normalized confusion matrix\")\n",
    "    else:\n",
    "        print('Confusion matrix, without normalization')\n",
    "\n",
    "    thresh = cm.max() / 2.\n",
    "    for i, j in itertools.product(range(cm.shape[0]), range(cm.shape[1])):\n",
    "        plt.text(j, i, cm[i, j],\n",
    "                 horizontalalignment=\"center\",\n",
    "                 color=\"white\" if cm[i, j] > thresh else \"black\")\n",
    "\n",
    "    plt.tight_layout()\n",
    "    plt.ylabel('True label')\n",
    "    plt.xlabel('Predicted label')"
   ]
  },
  {
   "cell_type": "code",
   "execution_count": 216,
   "id": "fcdf1c5e",
   "metadata": {},
   "outputs": [],
   "source": [
    "from sklearn.model_selection import train_test_split\n",
    "x_train_sm, X_test, y_train_sm, y_test = train_test_split(X, df_data[\"Rating\"], test_size=0.2, random_state=0)"
   ]
  },
  {
   "cell_type": "code",
   "execution_count": 217,
   "id": "06558dc5",
   "metadata": {},
   "outputs": [],
   "source": [
    "X_train, X_cv, y_train, y_cv = train_test_split(x_train_sm, y_train_sm, test_size=0.2, random_state=0)"
   ]
  },
  {
   "cell_type": "markdown",
   "id": "2fc4397e",
   "metadata": {},
   "source": [
    "# Base Model - Naive Bayes "
   ]
  },
  {
   "cell_type": "code",
   "execution_count": 220,
   "id": "6d968505",
   "metadata": {},
   "outputs": [],
   "source": [
    "from sklearn.naive_bayes import MultinomialNB"
   ]
  },
  {
   "cell_type": "code",
   "execution_count": 221,
   "id": "4bc2ff1b",
   "metadata": {},
   "outputs": [],
   "source": [
    "classifier=MultinomialNB(alpha=0.1)"
   ]
  },
  {
   "cell_type": "code",
   "execution_count": 222,
   "id": "2827b22c",
   "metadata": {},
   "outputs": [],
   "source": [
    "from sklearn import metrics\n",
    "import itertools"
   ]
  },
  {
   "cell_type": "code",
   "execution_count": 223,
   "id": "939b5756",
   "metadata": {},
   "outputs": [
    {
     "name": "stdout",
     "output_type": "stream",
     "text": [
      "Alpha: 0.0, Score : 0.8313953488372093\n",
      "Alpha: 0.1, Score : 0.8313953488372093\n",
      "Alpha: 0.2, Score : 0.8313953488372093\n",
      "Alpha: 0.30000000000000004, Score : 0.8255813953488372\n",
      "Alpha: 0.4, Score : 0.8197674418604651\n",
      "Alpha: 0.5, Score : 0.8197674418604651\n",
      "Alpha: 0.6000000000000001, Score : 0.8197674418604651\n",
      "Alpha: 0.7000000000000001, Score : 0.8197674418604651\n",
      "Alpha: 0.8, Score : 0.8197674418604651\n",
      "Alpha: 0.9, Score : 0.8197674418604651\n"
     ]
    },
    {
     "name": "stderr",
     "output_type": "stream",
     "text": [
      "C:\\Users\\Admin\\AppData\\Roaming\\Python\\Python39\\Scripts\\mypython\\lib\\site-packages\\sklearn\\naive_bayes.py:508: UserWarning: alpha too small will result in numeric errors, setting alpha = 1.0e-10\n",
      "  warnings.warn('alpha too small will result in numeric errors, '\n"
     ]
    }
   ],
   "source": [
    "previous_score=0\n",
    "for alpha in np.arange(0,1,0.1):\n",
    "    sub_classifier=MultinomialNB(alpha=alpha)\n",
    "    sub_classifier.fit(X_train,y_train)\n",
    "    y_pred=sub_classifier.predict(X_cv)\n",
    "    score = metrics.accuracy_score(y_cv, y_pred)\n",
    "    if score>previous_score:\n",
    "        classifier=sub_classifier\n",
    "    print(\"Alpha: {}, Score : {}\".format(alpha,score))"
   ]
  },
  {
   "cell_type": "code",
   "execution_count": 224,
   "id": "cea5c6ae",
   "metadata": {},
   "outputs": [],
   "source": [
    "classifier=MultinomialNB(alpha=0.4)"
   ]
  },
  {
   "cell_type": "code",
   "execution_count": 225,
   "id": "a2124f6f",
   "metadata": {},
   "outputs": [
    {
     "name": "stdout",
     "output_type": "stream",
     "text": [
      "accuracy:   0.805\n",
      "Confusion matrix, without normalization\n"
     ]
    },
    {
     "data": {
      "image/png": "[encoded data removed]",
      "text/plain": [
       "<Figure size 432x288 with 2 Axes>"
      ]
     },
     "metadata": {
      "needs_background": "light"
     },
     "output_type": "display_data"
    }
   ],
   "source": [
    "classifier.fit(x_train_sm, y_train_sm)\n",
    "pred = classifier.predict(X_test)\n",
    "score = metrics.accuracy_score(y_test, pred)\n",
    "print(\"accuracy:   %0.3f\" % score)\n",
    "cm = metrics.confusion_matrix(y_test, pred)\n",
    "plot_confusion_matrix(cm, classes=[1,2,3,4,5])"
   ]
  },
  {
   "cell_type": "markdown",
   "id": "8a23a465",
   "metadata": {},
   "source": [
    "# Training on Various models"
   ]
  },
  {
   "cell_type": "code",
   "execution_count": 306,
   "id": "e273f455",
   "metadata": {},
   "outputs": [],
   "source": [
    "cv = CountVectorizer(max_features=70)\n",
    "X = cv.fit_transform(corpus).toarray()\n",
    "\n",
    "df1 = pd.DataFrame(X, columns=cv.get_feature_names())\n",
    "df2 = pd.get_dummies(df, columns=['Category'],drop_first=True)\n",
    "df_data= pd.concat((df1, df2), axis=1)\n",
    "df_data = df_data.drop(['Review'], axis = 1)\n",
    "X = df_data.drop(['Rating'], axis = 1)\n",
    "\n",
    "#x_train_sm, X_test, y_train_sm, y_test = train_test_split(X, df_data[\"Rating\"], test_size=0.2, random_state=0)\n",
    "X_train, X_test, y_train, y_test = train_test_split(X, df_data[\"Rating\"], test_size=0.3, random_state=0)\n",
    "trans = StandardScaler()\n",
    "X_train=trans.fit_transform(X_train)\n",
    "X_test=trans.fit_transform(X_test)\n"
   ]
  },
  {
   "cell_type": "code",
   "execution_count": 311,
   "id": "1f9bd6e7",
   "metadata": {},
   "outputs": [],
   "source": [
    "\n",
    "pipe = Pipeline([(\"classifier\", RandomForestClassifier())])\n",
    "\n",
    "grid_param = [\n",
    "                {\"classifier\": [MultinomialNB()],\n",
    "                 \"classifier__alpha\": [0.1,0.2,0.3,0.4,0.5,0.6,0.7,0.8,0.9,1],\n",
    "                 },\n",
    "                {\"classifier\": [LogisticRegression(n_jobs=1)],\n",
    "                 \"classifier__penalty\": ['l1','l2'],\n",
    "                 \"classifier__C\": [0.01,0.1,1,10,30,50,100],\n",
    "                 \"classifier__max_iter\" : [1000]\n",
    "                    },\n",
    "                {\"classifier\": [SGDClassifier(random_state=42)],\n",
    "                 \"classifier__loss\": ['hinge','modified_huber'],\n",
    "                 \"classifier__penalty\" : ['l2','l1'],\n",
    "                 \"classifier__alpha\": [1e-4, 1e-3, 1e-2, 1e-1, 1e0, 1e1, 1e2, 1e3]\n",
    "                 },\n",
    "                {\"classifier\": [RandomForestClassifier()],\n",
    "                 \"classifier__n_estimators\": [10, 100, 1000],\n",
    "                 \"classifier__max_depth\":[5,8,15,25,30,None],\n",
    "                 \"classifier__min_samples_leaf\":[1,2,5,10,15,100],\n",
    "                 \"classifier__max_leaf_nodes\": [2, 5,10]}]\n",
    "# create a gridsearch of the pipeline, the fit the best model\n",
    "gridsearch = GridSearchCV(pipe, grid_param, cv=5, verbose=0,n_jobs=-1) # Fit grid search\n",
    "best_model = gridsearch.fit(X_train,y_train)\n"
   ]
  },
  {
   "cell_type": "code",
   "execution_count": 312,
   "id": "79c63ebe",
   "metadata": {},
   "outputs": [
    {
     "name": "stdout",
     "output_type": "stream",
     "text": [
      "Pipeline(steps=[('classifier',\n",
      "                 LogisticRegression(C=100, max_iter=1000, n_jobs=1))])\n",
      "The mean accuracy of the model is: 0.9597523219814241\n"
     ]
    }
   ],
   "source": [
    "print(best_model.best_estimator_)\n",
    "print(\"The mean accuracy of the model is:\",best_model.score(X_test,y_test))"
   ]
  },
  {
   "cell_type": "code",
   "execution_count": 332,
   "id": "fc2ec981",
   "metadata": {},
   "outputs": [],
   "source": [
    "pred=best_model.predict(X_test)"
   ]
  },
  {
   "cell_type": "code",
   "execution_count": 327,
   "id": "aa618438",
   "metadata": {},
   "outputs": [
    {
     "name": "stdout",
     "output_type": "stream",
     "text": [
      "dict_keys(['mean_fit_time', 'std_fit_time', 'mean_score_time', 'std_score_time', 'param_classifier', 'param_classifier__alpha', 'param_classifier__C', 'param_classifier__max_iter', 'param_classifier__penalty', 'param_classifier__loss', 'param_classifier__max_depth', 'param_classifier__max_leaf_nodes', 'param_classifier__min_samples_leaf', 'param_classifier__n_estimators', 'params', 'split0_test_score', 'split1_test_score', 'split2_test_score', 'split3_test_score', 'split4_test_score', 'mean_test_score', 'std_test_score', 'rank_test_score'])\n"
     ]
    }
   ],
   "source": [
    "print(best_model.cv_results_.keys())"
   ]
  },
  {
   "cell_type": "code",
   "execution_count": 316,
   "id": "14fa579d",
   "metadata": {},
   "outputs": [
    {
     "name": "stdout",
     "output_type": "stream",
     "text": [
      "Confusion matrix, without normalization\n"
     ]
    },
    {
     "data": {
      "image/png": "[encoded data removed]",
      "text/plain": [
       "<Figure size 432x288 with 2 Axes>"
      ]
     },
     "metadata": {
      "needs_background": "light"
     },
     "output_type": "display_data"
    }
   ],
   "source": [
    "cm = metrics.confusion_matrix(y_test, pred)\n",
    "plot_confusion_matrix(cm, classes=[1,2,3,4,5])\n"
   ]
  },
  {
   "cell_type": "markdown",
   "id": "e29ba94a",
   "metadata": {},
   "source": [
    "# Final Model Building"
   ]
  },
  {
   "cell_type": "code",
   "execution_count": 328,
   "id": "a78223d8",
   "metadata": {},
   "outputs": [],
   "source": [
    "import pickle"
   ]
  },
  {
   "cell_type": "code",
   "execution_count": 330,
   "id": "9d195928",
   "metadata": {},
   "outputs": [],
   "source": [
    "filename = 'finalized_model.sav'\n",
    "pickle.dump(best_model, open(filename, 'wb'))"
   ]
  }
 ],
 "metadata": {
  "kernelspec": {
   "display_name": "Python 3 (ipykernel)",
   "language": "python",
   "name": "python3"
  },
  "language_info": {
   "codemirror_mode": {
    "name": "ipython",
    "version": 3
   },
   "file_extension": ".py",
   "mimetype": "text/x-python",
   "name": "python",
   "nbconvert_exporter": "python",
   "pygments_lexer": "ipython3",
   "version": "3.9.5"
  }
 },
 "nbformat": 4,
 "nbformat_minor": 5
}
