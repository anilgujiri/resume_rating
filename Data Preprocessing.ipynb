{
 "cells": [
  {
   "cell_type": "code",
   "execution_count": 103,
   "id": "90a2d641",
   "metadata": {},
   "outputs": [],
   "source": [
    "import pandas as pd\n",
    "import numpy as np\n",
    "import spacy\n",
    "import os\n",
    "import time\n",
    "import gensim\n",
    "import re\n",
    "import nltk\n",
    "import en_core_web_sm\n",
    "from sklearn.pipeline import Pipeline\n",
    "from nltk.corpus import stopwords\n",
    "from collections import Counter\n",
    "import matplotlib.pyplot as plt\n",
    "from imblearn.over_sampling import SMOTE\n",
    "from sklearn.linear_model import SGDClassifier\n",
    "from sklearn.linear_model import LogisticRegression\n",
    "from sklearn.preprocessing import StandardScaler\n",
    "from sklearn.ensemble import RandomForestClassifier\n",
    "from sklearn.pipeline import Pipeline\n",
    "from sklearn.model_selection import GridSearchCV\n",
    "from imblearn.over_sampling import SMOTE\n",
    "import warnings\n",
    "from sklearn.feature_extraction.text import TfidfVectorizer\n",
    "warnings.filterwarnings('ignore')"
   ]
  },
  {
   "cell_type": "code",
   "execution_count": 21,
   "id": "5e23526f",
   "metadata": {},
   "outputs": [],
   "source": [
    "nlp = en_core_web_sm.load()"
   ]
  },
  {
   "cell_type": "code",
   "execution_count": 22,
   "id": "2ab5cae7",
   "metadata": {},
   "outputs": [],
   "source": [
    "df = pd.read_csv(\"final_data.csv\",index_col=False)"
   ]
  },
  {
   "cell_type": "code",
   "execution_count": 23,
   "id": "1140b704",
   "metadata": {},
   "outputs": [
    {
     "data": {
      "text/plain": [
       "0"
      ]
     },
     "execution_count": 23,
     "metadata": {},
     "output_type": "execute_result"
    }
   ],
   "source": [
    "df[\"Review\"].isna().sum()"
   ]
  },
  {
   "cell_type": "code",
   "execution_count": 24,
   "id": "64fbb33b",
   "metadata": {},
   "outputs": [],
   "source": [
    "df = df.dropna().reset_index(drop=True)"
   ]
  },
  {
   "cell_type": "code",
   "execution_count": 25,
   "id": "b6df9d42",
   "metadata": {},
   "outputs": [],
   "source": [
    "skills = [line.strip() for line in open(\"intermediate.txt\", 'r')]"
   ]
  },
  {
   "cell_type": "code",
   "execution_count": 26,
   "id": "213283e2",
   "metadata": {},
   "outputs": [
    {
     "data": {
      "text/html": [
       "<div>\n",
       "<style scoped>\n",
       "    .dataframe tbody tr th:only-of-type {\n",
       "        vertical-align: middle;\n",
       "    }\n",
       "\n",
       "    .dataframe tbody tr th {\n",
       "        vertical-align: top;\n",
       "    }\n",
       "\n",
       "    .dataframe thead th {\n",
       "        text-align: right;\n",
       "    }\n",
       "</style>\n",
       "<table border=\"1\" class=\"dataframe\">\n",
       "  <thead>\n",
       "    <tr style=\"text-align: right;\">\n",
       "      <th></th>\n",
       "      <th>Category</th>\n",
       "      <th>Review</th>\n",
       "      <th>Rating</th>\n",
       "    </tr>\n",
       "  </thead>\n",
       "  <tbody>\n",
       "    <tr>\n",
       "      <th>0</th>\n",
       "      <td>Data Engineer</td>\n",
       "      <td>learning spark machinelearning python language...</td>\n",
       "      <td>1</td>\n",
       "    </tr>\n",
       "    <tr>\n",
       "      <th>1</th>\n",
       "      <td>Data Engineer</td>\n",
       "      <td></td>\n",
       "      <td>1</td>\n",
       "    </tr>\n",
       "    <tr>\n",
       "      <th>2</th>\n",
       "      <td>Data Engineer</td>\n",
       "      <td>hadoop spark process hadoop spark process</td>\n",
       "      <td>1</td>\n",
       "    </tr>\n",
       "    <tr>\n",
       "      <th>3</th>\n",
       "      <td>Data Engineer</td>\n",
       "      <td>learning spark machinelearning naturallanguage...</td>\n",
       "      <td>1</td>\n",
       "    </tr>\n",
       "    <tr>\n",
       "      <th>4</th>\n",
       "      <td>Data Engineer</td>\n",
       "      <td>learning spark machinelearning pyspark tableau...</td>\n",
       "      <td>4</td>\n",
       "    </tr>\n",
       "    <tr>\n",
       "      <th>...</th>\n",
       "      <td>...</td>\n",
       "      <td>...</td>\n",
       "      <td>...</td>\n",
       "    </tr>\n",
       "    <tr>\n",
       "      <th>65</th>\n",
       "      <td>Data Science</td>\n",
       "      <td>learning machinelearning python screening lear...</td>\n",
       "      <td>1</td>\n",
       "    </tr>\n",
       "    <tr>\n",
       "      <th>66</th>\n",
       "      <td>Data Science</td>\n",
       "      <td>learning machinelearning python hadoop languag...</td>\n",
       "      <td>2</td>\n",
       "    </tr>\n",
       "    <tr>\n",
       "      <th>67</th>\n",
       "      <td>Data Science</td>\n",
       "      <td></td>\n",
       "      <td>1</td>\n",
       "    </tr>\n",
       "    <tr>\n",
       "      <th>68</th>\n",
       "      <td>Data Science</td>\n",
       "      <td>deeplearning machinelearning python process la...</td>\n",
       "      <td>1</td>\n",
       "    </tr>\n",
       "    <tr>\n",
       "      <th>69</th>\n",
       "      <td>Data Science</td>\n",
       "      <td>deeplearning machinelearning tableau python pr...</td>\n",
       "      <td>1</td>\n",
       "    </tr>\n",
       "  </tbody>\n",
       "</table>\n",
       "<p>70 rows × 3 columns</p>\n",
       "</div>"
      ],
      "text/plain": [
       "         Category                                             Review  Rating\n",
       "0   Data Engineer  learning spark machinelearning python language...       1\n",
       "1   Data Engineer                                                          1\n",
       "2   Data Engineer          hadoop spark process hadoop spark process       1\n",
       "3   Data Engineer  learning spark machinelearning naturallanguage...       1\n",
       "4   Data Engineer  learning spark machinelearning pyspark tableau...       4\n",
       "..            ...                                                ...     ...\n",
       "65   Data Science  learning machinelearning python screening lear...       1\n",
       "66   Data Science  learning machinelearning python hadoop languag...       2\n",
       "67   Data Science                                                          1\n",
       "68   Data Science  deeplearning machinelearning python process la...       1\n",
       "69   Data Science  deeplearning machinelearning tableau python pr...       1\n",
       "\n",
       "[70 rows x 3 columns]"
      ]
     },
     "execution_count": 26,
     "metadata": {},
     "output_type": "execute_result"
    }
   ],
   "source": [
    "df.head(70)"
   ]
  },
  {
   "cell_type": "code",
   "execution_count": 27,
   "id": "4afe6815",
   "metadata": {},
   "outputs": [
    {
     "name": "stdout",
     "output_type": "stream",
     "text": [
      "learning spark machinelearning python language learning spark machinelearning python language\n"
     ]
    }
   ],
   "source": [
    "corpus = []\n",
    "count = 0\n",
    "for i in range(len(df)):\n",
    "    review = nltk.word_tokenize(df[\"Review\"][i])\n",
    "    review = [word for word in review if not word in (set(stopwords.words('english')),set(skills))]\n",
    "    review = ' '.join(review)\n",
    "    if count == 0 :\n",
    "        print(review)\n",
    "        count += 1\n",
    "    corpus.append(review)\n"
   ]
  },
  {
   "cell_type": "code",
   "execution_count": 9,
   "id": "90816d61",
   "metadata": {},
   "outputs": [],
   "source": [
    "corpus_bkp = corpus.copy()"
   ]
  },
  {
   "cell_type": "code",
   "execution_count": 28,
   "id": "a1e6945f",
   "metadata": {},
   "outputs": [],
   "source": [
    "from sklearn.feature_extraction.text import CountVectorizer\n",
    "cv = CountVectorizer()\n",
    "X = cv.fit_transform(corpus).toarray()"
   ]
  },
  {
   "cell_type": "code",
   "execution_count": 54,
   "id": "40e7edc0",
   "metadata": {},
   "outputs": [],
   "source": [
    "df1 = pd.DataFrame(X, columns=cv.get_feature_names())"
   ]
  },
  {
   "cell_type": "code",
   "execution_count": 55,
   "id": "17b67e26",
   "metadata": {},
   "outputs": [],
   "source": [
    "df2 = pd.get_dummies(df, columns=['Category'],drop_first=True)"
   ]
  },
  {
   "cell_type": "code",
   "execution_count": 56,
   "id": "c0feffce",
   "metadata": {},
   "outputs": [],
   "source": [
    "df_data = df1.append(df2, ignore_index=True)"
   ]
  },
  {
   "cell_type": "code",
   "execution_count": 57,
   "id": "fe642758",
   "metadata": {},
   "outputs": [],
   "source": [
    "df_data= pd.concat((df1, df2), axis=1)"
   ]
  },
  {
   "cell_type": "code",
   "execution_count": 58,
   "id": "7e8676db",
   "metadata": {
    "scrolled": true
   },
   "outputs": [
    {
     "data": {
      "text/plain": [
       "(1075, 52)"
      ]
     },
     "execution_count": 58,
     "metadata": {},
     "output_type": "execute_result"
    }
   ],
   "source": [
    "df_data.shape"
   ]
  },
  {
   "cell_type": "code",
   "execution_count": 59,
   "id": "f564fe2d",
   "metadata": {},
   "outputs": [
    {
     "data": {
      "text/html": [
       "<div>\n",
       "<style scoped>\n",
       "    .dataframe tbody tr th:only-of-type {\n",
       "        vertical-align: middle;\n",
       "    }\n",
       "\n",
       "    .dataframe tbody tr th {\n",
       "        vertical-align: top;\n",
       "    }\n",
       "\n",
       "    .dataframe thead th {\n",
       "        text-align: right;\n",
       "    }\n",
       "</style>\n",
       "<table border=\"1\" class=\"dataframe\">\n",
       "  <thead>\n",
       "    <tr style=\"text-align: right;\">\n",
       "      <th></th>\n",
       "      <th>criminal</th>\n",
       "      <th>deep</th>\n",
       "      <th>deeplearning</th>\n",
       "      <th>hadoop</th>\n",
       "      <th>joining</th>\n",
       "      <th>language</th>\n",
       "      <th>languageprocessing</th>\n",
       "      <th>law</th>\n",
       "      <th>lead</th>\n",
       "      <th>learning</th>\n",
       "      <th>machine</th>\n",
       "      <th>machinelearning</th>\n",
       "      <th>natural</th>\n",
       "      <th>naturallanguage</th>\n",
       "      <th>naturallanguageprocessing</th>\n",
       "      <th>payroll</th>\n",
       "      <th>process</th>\n",
       "      <th>processing</th>\n",
       "      <th>pyspark</th>\n",
       "      <th>python</th>\n",
       "      <th>recruitment</th>\n",
       "      <th>recruitmentprocess</th>\n",
       "      <th>screening</th>\n",
       "      <th>spark</th>\n",
       "      <th>tableau</th>\n",
       "      <th>Review</th>\n",
       "      <th>Rating</th>\n",
       "      <th>Category_Arts</th>\n",
       "      <th>Category_Automation Testing</th>\n",
       "      <th>Category_Blockchain</th>\n",
       "      <th>Category_Business Analyst</th>\n",
       "      <th>Category_Civil Engineer</th>\n",
       "      <th>Category_Data Engineer</th>\n",
       "      <th>Category_Data Science</th>\n",
       "      <th>Category_Database</th>\n",
       "      <th>Category_DevOps Engineer</th>\n",
       "      <th>Category_DotNet Developer</th>\n",
       "      <th>Category_ETL Developer</th>\n",
       "      <th>Category_Electrical Engineering</th>\n",
       "      <th>Category_HR</th>\n",
       "      <th>Category_Hadoop</th>\n",
       "      <th>Category_Health and fitness</th>\n",
       "      <th>Category_Java Developer</th>\n",
       "      <th>Category_Mechanical Engineer</th>\n",
       "      <th>Category_Network Security Engineer</th>\n",
       "      <th>Category_Operations Manager</th>\n",
       "      <th>Category_PMO</th>\n",
       "      <th>Category_Python Developer</th>\n",
       "      <th>Category_SAP Developer</th>\n",
       "      <th>Category_Sales</th>\n",
       "      <th>Category_Testing</th>\n",
       "      <th>Category_Web Designing</th>\n",
       "    </tr>\n",
       "  </thead>\n",
       "  <tbody>\n",
       "    <tr>\n",
       "      <th>0</th>\n",
       "      <td>0</td>\n",
       "      <td>0</td>\n",
       "      <td>0</td>\n",
       "      <td>0</td>\n",
       "      <td>0</td>\n",
       "      <td>2</td>\n",
       "      <td>0</td>\n",
       "      <td>0</td>\n",
       "      <td>0</td>\n",
       "      <td>2</td>\n",
       "      <td>0</td>\n",
       "      <td>2</td>\n",
       "      <td>0</td>\n",
       "      <td>0</td>\n",
       "      <td>0</td>\n",
       "      <td>0</td>\n",
       "      <td>0</td>\n",
       "      <td>0</td>\n",
       "      <td>0</td>\n",
       "      <td>2</td>\n",
       "      <td>0</td>\n",
       "      <td>0</td>\n",
       "      <td>0</td>\n",
       "      <td>2</td>\n",
       "      <td>0</td>\n",
       "      <td>learning spark machinelearning python language...</td>\n",
       "      <td>1</td>\n",
       "      <td>0</td>\n",
       "      <td>0</td>\n",
       "      <td>0</td>\n",
       "      <td>0</td>\n",
       "      <td>0</td>\n",
       "      <td>1</td>\n",
       "      <td>0</td>\n",
       "      <td>0</td>\n",
       "      <td>0</td>\n",
       "      <td>0</td>\n",
       "      <td>0</td>\n",
       "      <td>0</td>\n",
       "      <td>0</td>\n",
       "      <td>0</td>\n",
       "      <td>0</td>\n",
       "      <td>0</td>\n",
       "      <td>0</td>\n",
       "      <td>0</td>\n",
       "      <td>0</td>\n",
       "      <td>0</td>\n",
       "      <td>0</td>\n",
       "      <td>0</td>\n",
       "      <td>0</td>\n",
       "      <td>0</td>\n",
       "      <td>0</td>\n",
       "    </tr>\n",
       "    <tr>\n",
       "      <th>1</th>\n",
       "      <td>0</td>\n",
       "      <td>0</td>\n",
       "      <td>0</td>\n",
       "      <td>0</td>\n",
       "      <td>0</td>\n",
       "      <td>0</td>\n",
       "      <td>0</td>\n",
       "      <td>0</td>\n",
       "      <td>0</td>\n",
       "      <td>0</td>\n",
       "      <td>0</td>\n",
       "      <td>0</td>\n",
       "      <td>0</td>\n",
       "      <td>0</td>\n",
       "      <td>0</td>\n",
       "      <td>0</td>\n",
       "      <td>0</td>\n",
       "      <td>0</td>\n",
       "      <td>0</td>\n",
       "      <td>0</td>\n",
       "      <td>0</td>\n",
       "      <td>0</td>\n",
       "      <td>0</td>\n",
       "      <td>0</td>\n",
       "      <td>0</td>\n",
       "      <td></td>\n",
       "      <td>1</td>\n",
       "      <td>0</td>\n",
       "      <td>0</td>\n",
       "      <td>0</td>\n",
       "      <td>0</td>\n",
       "      <td>0</td>\n",
       "      <td>1</td>\n",
       "      <td>0</td>\n",
       "      <td>0</td>\n",
       "      <td>0</td>\n",
       "      <td>0</td>\n",
       "      <td>0</td>\n",
       "      <td>0</td>\n",
       "      <td>0</td>\n",
       "      <td>0</td>\n",
       "      <td>0</td>\n",
       "      <td>0</td>\n",
       "      <td>0</td>\n",
       "      <td>0</td>\n",
       "      <td>0</td>\n",
       "      <td>0</td>\n",
       "      <td>0</td>\n",
       "      <td>0</td>\n",
       "      <td>0</td>\n",
       "      <td>0</td>\n",
       "      <td>0</td>\n",
       "    </tr>\n",
       "    <tr>\n",
       "      <th>2</th>\n",
       "      <td>0</td>\n",
       "      <td>0</td>\n",
       "      <td>0</td>\n",
       "      <td>2</td>\n",
       "      <td>0</td>\n",
       "      <td>0</td>\n",
       "      <td>0</td>\n",
       "      <td>0</td>\n",
       "      <td>0</td>\n",
       "      <td>0</td>\n",
       "      <td>0</td>\n",
       "      <td>0</td>\n",
       "      <td>0</td>\n",
       "      <td>0</td>\n",
       "      <td>0</td>\n",
       "      <td>0</td>\n",
       "      <td>2</td>\n",
       "      <td>0</td>\n",
       "      <td>0</td>\n",
       "      <td>0</td>\n",
       "      <td>0</td>\n",
       "      <td>0</td>\n",
       "      <td>0</td>\n",
       "      <td>2</td>\n",
       "      <td>0</td>\n",
       "      <td>hadoop spark process hadoop spark process</td>\n",
       "      <td>1</td>\n",
       "      <td>0</td>\n",
       "      <td>0</td>\n",
       "      <td>0</td>\n",
       "      <td>0</td>\n",
       "      <td>0</td>\n",
       "      <td>1</td>\n",
       "      <td>0</td>\n",
       "      <td>0</td>\n",
       "      <td>0</td>\n",
       "      <td>0</td>\n",
       "      <td>0</td>\n",
       "      <td>0</td>\n",
       "      <td>0</td>\n",
       "      <td>0</td>\n",
       "      <td>0</td>\n",
       "      <td>0</td>\n",
       "      <td>0</td>\n",
       "      <td>0</td>\n",
       "      <td>0</td>\n",
       "      <td>0</td>\n",
       "      <td>0</td>\n",
       "      <td>0</td>\n",
       "      <td>0</td>\n",
       "      <td>0</td>\n",
       "      <td>0</td>\n",
       "    </tr>\n",
       "    <tr>\n",
       "      <th>3</th>\n",
       "      <td>0</td>\n",
       "      <td>0</td>\n",
       "      <td>0</td>\n",
       "      <td>0</td>\n",
       "      <td>0</td>\n",
       "      <td>0</td>\n",
       "      <td>0</td>\n",
       "      <td>0</td>\n",
       "      <td>0</td>\n",
       "      <td>2</td>\n",
       "      <td>0</td>\n",
       "      <td>2</td>\n",
       "      <td>0</td>\n",
       "      <td>0</td>\n",
       "      <td>2</td>\n",
       "      <td>0</td>\n",
       "      <td>2</td>\n",
       "      <td>0</td>\n",
       "      <td>0</td>\n",
       "      <td>2</td>\n",
       "      <td>0</td>\n",
       "      <td>0</td>\n",
       "      <td>0</td>\n",
       "      <td>2</td>\n",
       "      <td>0</td>\n",
       "      <td>learning spark machinelearning naturallanguage...</td>\n",
       "      <td>1</td>\n",
       "      <td>0</td>\n",
       "      <td>0</td>\n",
       "      <td>0</td>\n",
       "      <td>0</td>\n",
       "      <td>0</td>\n",
       "      <td>1</td>\n",
       "      <td>0</td>\n",
       "      <td>0</td>\n",
       "      <td>0</td>\n",
       "      <td>0</td>\n",
       "      <td>0</td>\n",
       "      <td>0</td>\n",
       "      <td>0</td>\n",
       "      <td>0</td>\n",
       "      <td>0</td>\n",
       "      <td>0</td>\n",
       "      <td>0</td>\n",
       "      <td>0</td>\n",
       "      <td>0</td>\n",
       "      <td>0</td>\n",
       "      <td>0</td>\n",
       "      <td>0</td>\n",
       "      <td>0</td>\n",
       "      <td>0</td>\n",
       "      <td>0</td>\n",
       "    </tr>\n",
       "    <tr>\n",
       "      <th>4</th>\n",
       "      <td>0</td>\n",
       "      <td>0</td>\n",
       "      <td>0</td>\n",
       "      <td>2</td>\n",
       "      <td>0</td>\n",
       "      <td>0</td>\n",
       "      <td>2</td>\n",
       "      <td>0</td>\n",
       "      <td>0</td>\n",
       "      <td>2</td>\n",
       "      <td>0</td>\n",
       "      <td>2</td>\n",
       "      <td>0</td>\n",
       "      <td>0</td>\n",
       "      <td>0</td>\n",
       "      <td>0</td>\n",
       "      <td>2</td>\n",
       "      <td>0</td>\n",
       "      <td>2</td>\n",
       "      <td>2</td>\n",
       "      <td>0</td>\n",
       "      <td>0</td>\n",
       "      <td>0</td>\n",
       "      <td>2</td>\n",
       "      <td>2</td>\n",
       "      <td>learning spark machinelearning pyspark tableau...</td>\n",
       "      <td>4</td>\n",
       "      <td>0</td>\n",
       "      <td>0</td>\n",
       "      <td>0</td>\n",
       "      <td>0</td>\n",
       "      <td>0</td>\n",
       "      <td>1</td>\n",
       "      <td>0</td>\n",
       "      <td>0</td>\n",
       "      <td>0</td>\n",
       "      <td>0</td>\n",
       "      <td>0</td>\n",
       "      <td>0</td>\n",
       "      <td>0</td>\n",
       "      <td>0</td>\n",
       "      <td>0</td>\n",
       "      <td>0</td>\n",
       "      <td>0</td>\n",
       "      <td>0</td>\n",
       "      <td>0</td>\n",
       "      <td>0</td>\n",
       "      <td>0</td>\n",
       "      <td>0</td>\n",
       "      <td>0</td>\n",
       "      <td>0</td>\n",
       "      <td>0</td>\n",
       "    </tr>\n",
       "  </tbody>\n",
       "</table>\n",
       "</div>"
      ],
      "text/plain": [
       "   criminal  deep  deeplearning  hadoop  joining  language  \\\n",
       "0         0     0             0       0        0         2   \n",
       "1         0     0             0       0        0         0   \n",
       "2         0     0             0       2        0         0   \n",
       "3         0     0             0       0        0         0   \n",
       "4         0     0             0       2        0         0   \n",
       "\n",
       "   languageprocessing  law  lead  learning  machine  machinelearning  natural  \\\n",
       "0                   0    0     0         2        0                2        0   \n",
       "1                   0    0     0         0        0                0        0   \n",
       "2                   0    0     0         0        0                0        0   \n",
       "3                   0    0     0         2        0                2        0   \n",
       "4                   2    0     0         2        0                2        0   \n",
       "\n",
       "   naturallanguage  naturallanguageprocessing  payroll  process  processing  \\\n",
       "0                0                          0        0        0           0   \n",
       "1                0                          0        0        0           0   \n",
       "2                0                          0        0        2           0   \n",
       "3                0                          2        0        2           0   \n",
       "4                0                          0        0        2           0   \n",
       "\n",
       "   pyspark  python  recruitment  recruitmentprocess  screening  spark  \\\n",
       "0        0       2            0                   0          0      2   \n",
       "1        0       0            0                   0          0      0   \n",
       "2        0       0            0                   0          0      2   \n",
       "3        0       2            0                   0          0      2   \n",
       "4        2       2            0                   0          0      2   \n",
       "\n",
       "   tableau                                             Review  Rating  \\\n",
       "0        0  learning spark machinelearning python language...       1   \n",
       "1        0                                                          1   \n",
       "2        0          hadoop spark process hadoop spark process       1   \n",
       "3        0  learning spark machinelearning naturallanguage...       1   \n",
       "4        2  learning spark machinelearning pyspark tableau...       4   \n",
       "\n",
       "   Category_Arts  Category_Automation Testing  Category_Blockchain  \\\n",
       "0              0                            0                    0   \n",
       "1              0                            0                    0   \n",
       "2              0                            0                    0   \n",
       "3              0                            0                    0   \n",
       "4              0                            0                    0   \n",
       "\n",
       "   Category_Business Analyst  Category_Civil Engineer  Category_Data Engineer  \\\n",
       "0                          0                        0                       1   \n",
       "1                          0                        0                       1   \n",
       "2                          0                        0                       1   \n",
       "3                          0                        0                       1   \n",
       "4                          0                        0                       1   \n",
       "\n",
       "   Category_Data Science  Category_Database  Category_DevOps Engineer  \\\n",
       "0                      0                  0                         0   \n",
       "1                      0                  0                         0   \n",
       "2                      0                  0                         0   \n",
       "3                      0                  0                         0   \n",
       "4                      0                  0                         0   \n",
       "\n",
       "   Category_DotNet Developer  Category_ETL Developer  \\\n",
       "0                          0                       0   \n",
       "1                          0                       0   \n",
       "2                          0                       0   \n",
       "3                          0                       0   \n",
       "4                          0                       0   \n",
       "\n",
       "   Category_Electrical Engineering  Category_HR  Category_Hadoop  \\\n",
       "0                                0            0                0   \n",
       "1                                0            0                0   \n",
       "2                                0            0                0   \n",
       "3                                0            0                0   \n",
       "4                                0            0                0   \n",
       "\n",
       "   Category_Health and fitness  Category_Java Developer  \\\n",
       "0                            0                        0   \n",
       "1                            0                        0   \n",
       "2                            0                        0   \n",
       "3                            0                        0   \n",
       "4                            0                        0   \n",
       "\n",
       "   Category_Mechanical Engineer  Category_Network Security Engineer  \\\n",
       "0                             0                                   0   \n",
       "1                             0                                   0   \n",
       "2                             0                                   0   \n",
       "3                             0                                   0   \n",
       "4                             0                                   0   \n",
       "\n",
       "   Category_Operations Manager  Category_PMO  Category_Python Developer  \\\n",
       "0                            0             0                          0   \n",
       "1                            0             0                          0   \n",
       "2                            0             0                          0   \n",
       "3                            0             0                          0   \n",
       "4                            0             0                          0   \n",
       "\n",
       "   Category_SAP Developer  Category_Sales  Category_Testing  \\\n",
       "0                       0               0                 0   \n",
       "1                       0               0                 0   \n",
       "2                       0               0                 0   \n",
       "3                       0               0                 0   \n",
       "4                       0               0                 0   \n",
       "\n",
       "   Category_Web Designing  \n",
       "0                       0  \n",
       "1                       0  \n",
       "2                       0  \n",
       "3                       0  \n",
       "4                       0  "
      ]
     },
     "execution_count": 59,
     "metadata": {},
     "output_type": "execute_result"
    }
   ],
   "source": [
    "df_data.head()"
   ]
  },
  {
   "cell_type": "code",
   "execution_count": 60,
   "id": "9024c546",
   "metadata": {},
   "outputs": [
    {
     "data": {
      "text/plain": [
       "0       1\n",
       "1       1\n",
       "2       1\n",
       "3       1\n",
       "4       4\n",
       "       ..\n",
       "1070    1\n",
       "1071    1\n",
       "1072    1\n",
       "1073    1\n",
       "1074    1\n",
       "Name: Rating, Length: 1075, dtype: int64"
      ]
     },
     "execution_count": 60,
     "metadata": {},
     "output_type": "execute_result"
    }
   ],
   "source": [
    "df_data[\"Rating\"]"
   ]
  },
  {
   "cell_type": "code",
   "execution_count": 61,
   "id": "ea649877",
   "metadata": {},
   "outputs": [],
   "source": [
    "df_data = df_data.drop(['Review'], axis = 1)"
   ]
  },
  {
   "cell_type": "code",
   "execution_count": 65,
   "id": "03060dda",
   "metadata": {},
   "outputs": [
    {
     "data": {
      "text/plain": [
       "(1075, 51)"
      ]
     },
     "execution_count": 65,
     "metadata": {},
     "output_type": "execute_result"
    }
   ],
   "source": [
    "df_data.shape"
   ]
  },
  {
   "cell_type": "code",
   "execution_count": 63,
   "id": "c6193aec",
   "metadata": {},
   "outputs": [],
   "source": [
    "X = df_data.drop(['Rating'], axis = 1)"
   ]
  },
  {
   "cell_type": "code",
   "execution_count": 136,
   "id": "546845bc",
   "metadata": {},
   "outputs": [
    {
     "data": {
      "text/plain": [
       "0       0\n",
       "1       0\n",
       "2       0\n",
       "3       0\n",
       "4       0\n",
       "       ..\n",
       "4940    1\n",
       "4941    1\n",
       "4942    1\n",
       "4943    1\n",
       "4944    1\n",
       "Name: Category_Data Science, Length: 4945, dtype: uint8"
      ]
     },
     "execution_count": 136,
     "metadata": {},
     "output_type": "execute_result"
    }
   ],
   "source": [
    "X['Category_' + 'Data Science']"
   ]
  },
  {
   "cell_type": "code",
   "execution_count": 132,
   "id": "edb45fe4",
   "metadata": {},
   "outputs": [],
   "source": [
    "col = pd.DataFrame(columns=list(X.columns.values))"
   ]
  },
  {
   "cell_type": "code",
   "execution_count": 139,
   "id": "f158e8f3",
   "metadata": {},
   "outputs": [
    {
     "data": {
      "text/plain": [
       "(0, 50)"
      ]
     },
     "execution_count": 139,
     "metadata": {},
     "output_type": "execute_result"
    }
   ],
   "source": [
    "col.shape"
   ]
  },
  {
   "cell_type": "code",
   "execution_count": 134,
   "id": "4bd1b1aa",
   "metadata": {},
   "outputs": [
    {
     "data": {
      "text/plain": [
       "Series([], Name: Category_Data Science, dtype: object)"
      ]
     },
     "execution_count": 134,
     "metadata": {},
     "output_type": "execute_result"
    }
   ],
   "source": [
    "col['Category_' + 'Data Science']"
   ]
  },
  {
   "cell_type": "code",
   "execution_count": 140,
   "id": "0190de6f",
   "metadata": {},
   "outputs": [],
   "source": [
    "col.to_csv('columns.csv',index=False)"
   ]
  },
  {
   "cell_type": "code",
   "execution_count": 72,
   "id": "a2e32268",
   "metadata": {},
   "outputs": [],
   "source": [
    "#smk = SMOTETomek(random_state=42)\n",
    "#X_res,y_res=smk.fit_sample(df[[\"Category\",\"Resume\"]],df[\"Rating\"])\n",
    "oversample = SMOTE()\n",
    "X_res, y_res = oversample.fit_resample(X,df_data[\"Rating\"])"
   ]
  },
  {
   "cell_type": "code",
   "execution_count": 73,
   "id": "ea575c45",
   "metadata": {},
   "outputs": [],
   "source": [
    "def plot_confusion_matrix(cm, classes,\n",
    "                          normalize=False,\n",
    "                          title='Confusion matrix',\n",
    "                          cmap=plt.cm.Blues):\n",
    "    \"\"\"\n",
    "    See full source and example: \n",
    "    http://scikit-learn.org/stable/auto_examples/model_selection/plot_confusion_matrix.html\n",
    "    \n",
    "    This function prints and plots the confusion matrix.\n",
    "    Normalization can be applied by setting `normalize=True`.\n",
    "    \"\"\"\n",
    "    plt.imshow(cm, interpolation='nearest', cmap=cmap)\n",
    "    plt.title(title)\n",
    "    plt.colorbar()\n",
    "    tick_marks = np.arange(len(classes))\n",
    "    plt.xticks(tick_marks, classes, rotation=45)\n",
    "    plt.yticks(tick_marks, classes)\n",
    "\n",
    "    if normalize:\n",
    "        cm = cm.astype('float') / cm.sum(axis=1)[:, np.newaxis]\n",
    "        print(\"Normalized confusion matrix\")\n",
    "    else:\n",
    "        print('Confusion matrix, without normalization')\n",
    "\n",
    "    thresh = cm.max() / 2.\n",
    "    for i, j in itertools.product(range(cm.shape[0]), range(cm.shape[1])):\n",
    "        plt.text(j, i, cm[i, j],\n",
    "                 horizontalalignment=\"center\",\n",
    "                 color=\"white\" if cm[i, j] > thresh else \"black\")\n",
    "\n",
    "    plt.tight_layout()\n",
    "    plt.ylabel('True label')\n",
    "    plt.xlabel('Predicted label')"
   ]
  },
  {
   "cell_type": "raw",
   "id": "1ce8be7f",
   "metadata": {},
   "source": []
  },
  {
   "cell_type": "code",
   "execution_count": 83,
   "id": "602ff59b",
   "metadata": {},
   "outputs": [
    {
     "data": {
      "text/plain": [
       "1    989\n",
       "4    989\n",
       "2    989\n",
       "3    989\n",
       "5    989\n",
       "Name: Rating, dtype: int64"
      ]
     },
     "execution_count": 83,
     "metadata": {},
     "output_type": "execute_result"
    }
   ],
   "source": [
    "y_res.value_counts()"
   ]
  },
  {
   "cell_type": "code",
   "execution_count": 84,
   "id": "fcdf1c5e",
   "metadata": {},
   "outputs": [],
   "source": [
    "from sklearn.model_selection import train_test_split\n",
    "x_train_sm, X_test, y_train_sm, y_test = train_test_split(X_res, y_res, test_size=0.2, random_state=0)"
   ]
  },
  {
   "cell_type": "code",
   "execution_count": 85,
   "id": "06558dc5",
   "metadata": {},
   "outputs": [],
   "source": [
    "X_train, X_cv, y_train, y_cv = train_test_split(x_train_sm, y_train_sm, test_size=0.2, random_state=0)"
   ]
  },
  {
   "cell_type": "markdown",
   "id": "2fc4397e",
   "metadata": {},
   "source": [
    "# Base Model - Naive Bayes "
   ]
  },
  {
   "cell_type": "code",
   "execution_count": 86,
   "id": "6d968505",
   "metadata": {},
   "outputs": [],
   "source": [
    "from sklearn.naive_bayes import MultinomialNB"
   ]
  },
  {
   "cell_type": "code",
   "execution_count": 87,
   "id": "4bc2ff1b",
   "metadata": {},
   "outputs": [],
   "source": [
    "classifier=MultinomialNB(alpha=0.1)"
   ]
  },
  {
   "cell_type": "code",
   "execution_count": 88,
   "id": "2827b22c",
   "metadata": {},
   "outputs": [],
   "source": [
    "from sklearn import metrics\n",
    "import itertools"
   ]
  },
  {
   "cell_type": "code",
   "execution_count": 89,
   "id": "939b5756",
   "metadata": {},
   "outputs": [
    {
     "name": "stdout",
     "output_type": "stream",
     "text": [
      "Alpha: 0.0, Score : 0.8825757575757576\n",
      "Alpha: 0.1, Score : 0.8775252525252525\n",
      "Alpha: 0.2, Score : 0.8737373737373737\n",
      "Alpha: 0.30000000000000004, Score : 0.8712121212121212\n",
      "Alpha: 0.4, Score : 0.8712121212121212\n",
      "Alpha: 0.5, Score : 0.8712121212121212\n",
      "Alpha: 0.6000000000000001, Score : 0.8699494949494949\n",
      "Alpha: 0.7000000000000001, Score : 0.8699494949494949\n",
      "Alpha: 0.8, Score : 0.8699494949494949\n",
      "Alpha: 0.9, Score : 0.8699494949494949\n"
     ]
    }
   ],
   "source": [
    "previous_score=0\n",
    "for alpha in np.arange(0,1,0.1):\n",
    "    sub_classifier=MultinomialNB(alpha=alpha)\n",
    "    sub_classifier.fit(X_train,y_train)\n",
    "    y_pred=sub_classifier.predict(X_cv)\n",
    "    score = metrics.accuracy_score(y_cv, y_pred)\n",
    "    if score>previous_score:\n",
    "        classifier=sub_classifier\n",
    "    print(\"Alpha: {}, Score : {}\".format(alpha,score))"
   ]
  },
  {
   "cell_type": "code",
   "execution_count": 90,
   "id": "cea5c6ae",
   "metadata": {},
   "outputs": [],
   "source": [
    "classifier=MultinomialNB(alpha=0.4)"
   ]
  },
  {
   "cell_type": "code",
   "execution_count": 91,
   "id": "a2124f6f",
   "metadata": {},
   "outputs": [
    {
     "name": "stdout",
     "output_type": "stream",
     "text": [
      "accuracy:   0.896\n",
      "Confusion matrix, without normalization\n"
     ]
    },
    {
     "data": {
      "image/png": "[encoded data removed]",
      "text/plain": [
       "<Figure size 432x288 with 2 Axes>"
      ]
     },
     "metadata": {
      "needs_background": "light"
     },
     "output_type": "display_data"
    }
   ],
   "source": [
    "classifier.fit(x_train_sm, y_train_sm)\n",
    "pred = classifier.predict(X_test)\n",
    "score = metrics.accuracy_score(y_test, pred)\n",
    "print(\"accuracy:   %0.3f\" % score)\n",
    "cm = metrics.confusion_matrix(y_test, pred)\n",
    "plot_confusion_matrix(cm, classes=[1,2,3,4,5])"
   ]
  },
  {
   "cell_type": "markdown",
   "id": "8a23a465",
   "metadata": {},
   "source": [
    "# Training on Various models"
   ]
  },
  {
   "cell_type": "code",
   "execution_count": 94,
   "id": "e273f455",
   "metadata": {},
   "outputs": [],
   "source": [
    "cv = CountVectorizer()\n",
    "X = cv.fit_transform(corpus).toarray()\n",
    "\n",
    "df1 = pd.DataFrame(X, columns=cv.get_feature_names())\n",
    "df2 = pd.get_dummies(df, columns=['Category'],drop_first=True)\n",
    "df_data= pd.concat((df1, df2), axis=1)\n",
    "df_data = df_data.drop(['Review'], axis = 1)\n",
    "X = df_data.drop(['Rating'], axis = 1)\n",
    "oversample = SMOTE()\n",
    "X, y = oversample.fit_resample(X,df_data[\"Rating\"])\n",
    "\n",
    "#x_train_sm, X_test, y_train_sm, y_test = train_test_split(X, df_data[\"Rating\"], test_size=0.2, random_state=0)\n",
    "X_train, X_test, y_train, y_test = train_test_split(X, y, test_size=0.3, random_state=0)\n",
    "trans = StandardScaler()\n",
    "X_train=trans.fit_transform(X_train)\n",
    "X_test=trans.fit_transform(X_test)\n"
   ]
  },
  {
   "cell_type": "code",
   "execution_count": 96,
   "id": "059f158f",
   "metadata": {},
   "outputs": [
    {
     "data": {
      "text/plain": [
       "(1484, 50)"
      ]
     },
     "execution_count": 96,
     "metadata": {},
     "output_type": "execute_result"
    }
   ],
   "source": [
    "X_test.shape"
   ]
  },
  {
   "cell_type": "code",
   "execution_count": 97,
   "id": "1f9bd6e7",
   "metadata": {},
   "outputs": [],
   "source": [
    "\n",
    "pipe = Pipeline([(\"classifier\", RandomForestClassifier())])\n",
    "\n",
    "grid_param = [\n",
    "                {\"classifier\": [MultinomialNB()],\n",
    "                 \"classifier__alpha\": [0.1,0.2,0.3,0.4,0.5,0.6,0.7,0.8,0.9,1],\n",
    "                 },\n",
    "                {\"classifier\": [LogisticRegression(n_jobs=1)],\n",
    "                 \"classifier__penalty\": ['l1','l2'],\n",
    "                 \"classifier__C\": [0.01,0.1,1,10,30,50,100],\n",
    "                 \"classifier__max_iter\" : [1000]\n",
    "                    },\n",
    "                {\"classifier\": [SGDClassifier(random_state=42)],\n",
    "                 \"classifier__loss\": ['hinge','modified_huber'],\n",
    "                 \"classifier__penalty\" : ['l2','l1'],\n",
    "                 \"classifier__alpha\": [1e-4, 1e-3, 1e-2, 1e-1, 1e0, 1e1, 1e2, 1e3]\n",
    "                 },\n",
    "                {\"classifier\": [RandomForestClassifier()],\n",
    "                 \"classifier__n_estimators\": [10, 100, 1000],\n",
    "                 \"classifier__max_depth\":[5,8,15,25,30,None],\n",
    "                 \"classifier__min_samples_leaf\":[1,2,5,10,15,100],\n",
    "                 \"classifier__max_leaf_nodes\": [2, 5,10]}]\n",
    "# create a gridsearch of the pipeline, the fit the best model\n",
    "gridsearch = GridSearchCV(pipe, grid_param, cv=5, verbose=0,n_jobs=-1) # Fit grid search\n",
    "best_model = gridsearch.fit(X_train,y_train)\n"
   ]
  },
  {
   "cell_type": "code",
   "execution_count": 98,
   "id": "79c63ebe",
   "metadata": {},
   "outputs": [
    {
     "name": "stdout",
     "output_type": "stream",
     "text": [
      "Pipeline(steps=[('classifier',\n",
      "                 LogisticRegression(C=30, max_iter=1000, n_jobs=1))])\n",
      "The mean accuracy of the model is: 0.9959568733153639\n"
     ]
    }
   ],
   "source": [
    "print(best_model.best_estimator_)\n",
    "print(\"The mean accuracy of the model is:\",best_model.score(X_test,y_test))"
   ]
  },
  {
   "cell_type": "code",
   "execution_count": 99,
   "id": "fc2ec981",
   "metadata": {},
   "outputs": [],
   "source": [
    "pred=best_model.predict(X_test)"
   ]
  },
  {
   "cell_type": "code",
   "execution_count": 100,
   "id": "aa618438",
   "metadata": {},
   "outputs": [
    {
     "name": "stdout",
     "output_type": "stream",
     "text": [
      "dict_keys(['mean_fit_time', 'std_fit_time', 'mean_score_time', 'std_score_time', 'param_classifier', 'param_classifier__alpha', 'param_classifier__C', 'param_classifier__max_iter', 'param_classifier__penalty', 'param_classifier__loss', 'param_classifier__max_depth', 'param_classifier__max_leaf_nodes', 'param_classifier__min_samples_leaf', 'param_classifier__n_estimators', 'params', 'split0_test_score', 'split1_test_score', 'split2_test_score', 'split3_test_score', 'split4_test_score', 'mean_test_score', 'std_test_score', 'rank_test_score'])\n"
     ]
    }
   ],
   "source": [
    "print(best_model.cv_results_.keys())"
   ]
  },
  {
   "cell_type": "code",
   "execution_count": 101,
   "id": "14fa579d",
   "metadata": {},
   "outputs": [
    {
     "name": "stdout",
     "output_type": "stream",
     "text": [
      "Confusion matrix, without normalization\n"
     ]
    },
    {
     "data": {
      "image/png": "[encoded data removed]",
      "text/plain": [
       "<Figure size 432x288 with 2 Axes>"
      ]
     },
     "metadata": {
      "needs_background": "light"
     },
     "output_type": "display_data"
    }
   ],
   "source": [
    "cm = metrics.confusion_matrix(y_test, pred)\n",
    "plot_confusion_matrix(cm, classes=[1,2,3,4,5])\n"
   ]
  },
  {
   "cell_type": "code",
   "execution_count": null,
   "id": "22b2ef45",
   "metadata": {},
   "outputs": [],
   "source": [
    "#Training on TFIDF"
   ]
  },
  {
   "cell_type": "code",
   "execution_count": 105,
   "id": "c99a10b9",
   "metadata": {},
   "outputs": [],
   "source": [
    "tfidf = TfidfVectorizer()\n",
    "X = tfidf.fit_transform(corpus).toarray()\n",
    "\n",
    "df1 = pd.DataFrame(X, columns=tfidf.get_feature_names())\n",
    "df2 = pd.get_dummies(df, columns=['Category'],drop_first=True)\n",
    "df_data= pd.concat((df1, df2), axis=1)\n",
    "df_data = df_data.drop(['Review'], axis = 1)\n",
    "X = df_data.drop(['Rating'], axis = 1)\n",
    "oversample = SMOTE()\n",
    "X, y = oversample.fit_resample(X,df_data[\"Rating\"])\n",
    "\n",
    "#x_train_sm, X_test, y_train_sm, y_test = train_test_split(X, df_data[\"Rating\"], test_size=0.2, random_state=0)\n",
    "X_train, X_test, y_train, y_test = train_test_split(X, y, test_size=0.3, random_state=0)\n",
    "trans = StandardScaler()\n",
    "X_train=trans.fit_transform(X_train)\n",
    "X_test=trans.fit_transform(X_test)"
   ]
  },
  {
   "cell_type": "code",
   "execution_count": 106,
   "id": "28c17000",
   "metadata": {},
   "outputs": [],
   "source": [
    "pipe = Pipeline([(\"classifier\", RandomForestClassifier())])\n",
    "\n",
    "grid_param = [\n",
    "                {\"classifier\": [MultinomialNB()],\n",
    "                 \"classifier__alpha\": [0.1,0.2,0.3,0.4,0.5,0.6,0.7,0.8,0.9,1],\n",
    "                 },\n",
    "                {\"classifier\": [LogisticRegression(n_jobs=1)],\n",
    "                 \"classifier__penalty\": ['l1','l2'],\n",
    "                 \"classifier__C\": [0.01,0.1,1,10,30,50,100],\n",
    "                 \"classifier__max_iter\" : [1000]\n",
    "                    },\n",
    "                {\"classifier\": [SGDClassifier(random_state=42)],\n",
    "                 \"classifier__loss\": ['hinge','modified_huber'],\n",
    "                 \"classifier__penalty\" : ['l2','l1'],\n",
    "                 \"classifier__alpha\": [1e-4, 1e-3, 1e-2, 1e-1, 1e0, 1e1, 1e2, 1e3]\n",
    "                 },\n",
    "                {\"classifier\": [RandomForestClassifier()],\n",
    "                 \"classifier__n_estimators\": [10, 100, 1000],\n",
    "                 \"classifier__max_depth\":[5,8,15,25,30,None],\n",
    "                 \"classifier__min_samples_leaf\":[1,2,5,10,15,100],\n",
    "                 \"classifier__max_leaf_nodes\": [2, 5,10]}]\n",
    "# create a gridsearch of the pipeline, the fit the best model\n",
    "gridsearch = GridSearchCV(pipe, grid_param, cv=5, verbose=0,n_jobs=-1) # Fit grid search\n"
   ]
  },
  {
   "cell_type": "code",
   "execution_count": 107,
   "id": "829a1355",
   "metadata": {},
   "outputs": [
    {
     "name": "stdout",
     "output_type": "stream",
     "text": [
      "Pipeline(steps=[('classifier',\n",
      "                 LogisticRegression(C=30, max_iter=1000, n_jobs=1))])\n",
      "The mean accuracy of the model is: 1.0\n",
      "Confusion matrix, without normalization\n"
     ]
    },
    {
     "data": {
      "image/png": "[encoded data removed]",
      "text/plain": [
       "<Figure size 432x288 with 2 Axes>"
      ]
     },
     "metadata": {
      "needs_background": "light"
     },
     "output_type": "display_data"
    }
   ],
   "source": [
    "best_model_tf = gridsearch.fit(X_train,y_train)\n",
    "print(best_model_tf.best_estimator_)\n",
    "print(\"The mean accuracy of the model is:\",best_model_tf.score(X_test,y_test))\n",
    "pred=best_model_tf.predict(X_test)\n",
    "cm = metrics.confusion_matrix(y_test, pred)\n",
    "plot_confusion_matrix(cm, classes=[1,2,3,4,5])"
   ]
  },
  {
   "cell_type": "markdown",
   "id": "e29ba94a",
   "metadata": {},
   "source": [
    "# Final Model Building"
   ]
  },
  {
   "cell_type": "code",
   "execution_count": 109,
   "id": "a78223d8",
   "metadata": {},
   "outputs": [],
   "source": [
    "import pickle"
   ]
  },
  {
   "cell_type": "code",
   "execution_count": 110,
   "id": "9d195928",
   "metadata": {},
   "outputs": [],
   "source": [
    "filename = 'finalized_model_cv.sav'\n",
    "pickle.dump(best_model, open(filename, 'wb'))\n",
    "filename = 'finalized_model_tf.sav'\n",
    "pickle.dump(best_model_tf, open(filename, 'wb'))"
   ]
  },
  {
   "cell_type": "code",
   "execution_count": 118,
   "id": "3160cb04",
   "metadata": {},
   "outputs": [
    {
     "data": {
      "text/plain": [
       "Index(['criminal', 'deep', 'deeplearning', 'hadoop', 'joining', 'language',\n",
       "       'languageprocessing', 'law', 'lead', 'learning', 'machine',\n",
       "       'machinelearning', 'natural', 'naturallanguage',\n",
       "       'naturallanguageprocessing', 'payroll', 'process', 'processing',\n",
       "       'pyspark', 'python', 'recruitment', 'recruitmentprocess', 'screening',\n",
       "       'spark', 'tableau', 'Category_Arts', 'Category_Automation Testing',\n",
       "       'Category_Blockchain', 'Category_Business Analyst',\n",
       "       'Category_Civil Engineer', 'Category_Data Engineer',\n",
       "       'Category_Data Science', 'Category_Database',\n",
       "       'Category_DevOps Engineer', 'Category_DotNet Developer',\n",
       "       'Category_ETL Developer', 'Category_Electrical Engineering',\n",
       "       'Category_HR', 'Category_Hadoop', 'Category_Health and fitness',\n",
       "       'Category_Java Developer', 'Category_Mechanical Engineer',\n",
       "       'Category_Network Security Engineer', 'Category_Operations Manager',\n",
       "       'Category_PMO', 'Category_Python Developer', 'Category_SAP Developer',\n",
       "       'Category_Sales', 'Category_Testing', 'Category_Web Designing'],\n",
       "      dtype='object')"
      ]
     },
     "execution_count": 118,
     "metadata": {},
     "output_type": "execute_result"
    }
   ],
   "source": [
    "X.columns"
   ]
  }
 ],
 "metadata": {
  "kernelspec": {
   "display_name": "Python 3 (ipykernel)",
   "language": "python",
   "name": "python3"
  },
  "language_info": {
   "codemirror_mode": {
    "name": "ipython",
    "version": 3
   },
   "file_extension": ".py",
   "mimetype": "text/x-python",
   "name": "python",
   "nbconvert_exporter": "python",
   "pygments_lexer": "ipython3",
   "version": "3.9.5"
  }
 },
 "nbformat": 4,
 "nbformat_minor": 5
}
